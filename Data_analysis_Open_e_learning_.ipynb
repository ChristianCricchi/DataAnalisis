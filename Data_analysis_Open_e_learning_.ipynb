{
  "nbformat": 4,
  "nbformat_minor": 0,
  "metadata": {
    "colab": {
      "provenance": [],
      "authorship_tag": "ABX9TyOT2Hl1Ul3bBbWJFoj68rIj",
      "include_colab_link": true
    },
    "kernelspec": {
      "name": "python3",
      "display_name": "Python 3"
    },
    "language_info": {
      "name": "python"
    }
  },
  "cells": [
    {
      "cell_type": "markdown",
      "metadata": {
        "id": "view-in-github",
        "colab_type": "text"
      },
      "source": [
        "<a href=\"https://colab.research.google.com/github/ChristianCricchi/DataAnalisis/blob/main/Data_analysis_Open_e_learning_.ipynb\" target=\"_parent\"><img src=\"https://colab.research.google.com/assets/colab-badge.svg\" alt=\"Open In Colab\"/></a>"
      ]
    },
    {
      "cell_type": "markdown",
      "source": [
        "# **Introduction to Data Concepts**\n",
        "\n",
        "\n",
        "## Types of data\n",
        "\n",
        "---\n",
        "\n",
        "Learning objectives\n",
        "* Explain the importance of data in a digital world:\n",
        "* Differentiate between unstructured and structured data:\n",
        "* Identify the purpose of a database:\n",
        "* Differentiate between quantitative and qualitative data:\n",
        "\n",
        "\n"
      ],
      "metadata": {
        "id": "yG__c-QhAB2u"
      }
    }
  ]
}